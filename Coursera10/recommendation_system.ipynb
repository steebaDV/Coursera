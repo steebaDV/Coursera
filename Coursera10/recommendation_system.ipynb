{
 "cells": [
  {
   "cell_type": "code",
   "execution_count": 209,
   "metadata": {},
   "outputs": [],
   "source": [
    "import numpy as np\n",
    "import pandas as pd\n",
    "\n",
    "from collections import Counter\n",
    "from functools import reduce"
   ]
  },
  {
   "cell_type": "code",
   "execution_count": 211,
   "metadata": {},
   "outputs": [],
   "source": [
    "def pr_k(k, recommended, purchased):\n",
    "    result = len(set(recommended[:k]) & set(purchased)) / k\n",
    "    return result"
   ]
  },
  {
   "cell_type": "code",
   "execution_count": 212,
   "metadata": {},
   "outputs": [],
   "source": [
    "def recall_k(k, recommended, purchased):\n",
    "    result = len(set(recommended[:k]) & set(purchased)) / len(purchased)\n",
    "    return result"
   ]
  },
  {
   "cell_type": "code",
   "execution_count": 225,
   "metadata": {},
   "outputs": [],
   "source": [
    "def calculate_metrics(recommended, purchased):\n",
    "    data = pd.DataFrame({'recommended': recommended, 'purchased': purchased})\n",
    "    recall_1 = round(data.apply(lambda x: recall_k(1, x['recommended'], x['purchased']), axis=1).mean(), 2)\n",
    "    recall_5 = round(data.apply(lambda x: recall_k(5, x['recommended'], x['purchased']), axis=1).mean(), 2)\n",
    "    \n",
    "    pr_1 = round(data.apply(lambda x: pr_k(1, x['recommended'], x['purchased']), axis=1).mean(), 2)\n",
    "    pr_5 = round(data.apply(lambda x: pr_k(5, x['recommended'], x['purchased']), axis=1).mean(), 2)\n",
    "    return recall_1, pr_1, recall_5, pr_5"
   ]
  },
  {
   "cell_type": "code",
   "execution_count": 231,
   "metadata": {},
   "outputs": [],
   "source": [
    "def write_answer(file, answers_list):\n",
    "    with open(file, 'w') as f:\n",
    "        f.write(' '.join(list(map(str, answers_list))))"
   ]
  },
  {
   "cell_type": "code",
   "execution_count": 215,
   "metadata": {},
   "outputs": [
    {
     "data": {
      "text/html": [
       "<div>\n",
       "<style scoped>\n",
       "    .dataframe tbody tr th:only-of-type {\n",
       "        vertical-align: middle;\n",
       "    }\n",
       "\n",
       "    .dataframe tbody tr th {\n",
       "        vertical-align: top;\n",
       "    }\n",
       "\n",
       "    .dataframe thead th {\n",
       "        text-align: right;\n",
       "    }\n",
       "</style>\n",
       "<table border=\"1\" class=\"dataframe\">\n",
       "  <thead>\n",
       "    <tr style=\"text-align: right;\">\n",
       "      <th></th>\n",
       "      <th>viewed</th>\n",
       "      <th>purchased</th>\n",
       "    </tr>\n",
       "  </thead>\n",
       "  <tbody>\n",
       "    <tr>\n",
       "      <th>7</th>\n",
       "      <td>59,60,61,62,60,63,64,65,66,61,67,68,67</td>\n",
       "      <td>67,60,63</td>\n",
       "    </tr>\n",
       "    <tr>\n",
       "      <th>10</th>\n",
       "      <td>84,85,86,87,88,89,84,90,91,92,93,86</td>\n",
       "      <td>86</td>\n",
       "    </tr>\n",
       "    <tr>\n",
       "      <th>19</th>\n",
       "      <td>138,198,199,127</td>\n",
       "      <td>199</td>\n",
       "    </tr>\n",
       "    <tr>\n",
       "      <th>30</th>\n",
       "      <td>303,304,305,306,307,308,309,310,311,312</td>\n",
       "      <td>303</td>\n",
       "    </tr>\n",
       "    <tr>\n",
       "      <th>33</th>\n",
       "      <td>352,353,352</td>\n",
       "      <td>352</td>\n",
       "    </tr>\n",
       "  </tbody>\n",
       "</table>\n",
       "</div>"
      ],
      "text/plain": [
       "                                     viewed purchased\n",
       "7    59,60,61,62,60,63,64,65,66,61,67,68,67  67,60,63\n",
       "10      84,85,86,87,88,89,84,90,91,92,93,86        86\n",
       "19                          138,198,199,127       199\n",
       "30  303,304,305,306,307,308,309,310,311,312       303\n",
       "33                              352,353,352       352"
      ]
     },
     "execution_count": 215,
     "metadata": {},
     "output_type": "execute_result"
    }
   ],
   "source": [
    "train = pd.read_csv('coursera_sessions_train.txt', sep=';', names=['viewed', 'purchased']).dropna()\n",
    "test = pd.read_csv('coursera_sessions_test.txt', sep=';', names=['viewed', 'purchased']).dropna()\n",
    "train.head()"
   ]
  },
  {
   "cell_type": "code",
   "execution_count": 216,
   "metadata": {},
   "outputs": [
    {
     "name": "stdout",
     "output_type": "stream",
     "text": [
      "<class 'pandas.core.frame.DataFrame'>\n",
      "Int64Index: 3608 entries, 7 to 49995\n",
      "Data columns (total 2 columns):\n",
      " #   Column     Non-Null Count  Dtype \n",
      "---  ------     --------------  ----- \n",
      " 0   viewed     3608 non-null   object\n",
      " 1   purchased  3608 non-null   object\n",
      "dtypes: object(2)\n",
      "memory usage: 84.6+ KB\n"
     ]
    }
   ],
   "source": [
    "train.info()"
   ]
  },
  {
   "cell_type": "code",
   "execution_count": 218,
   "metadata": {},
   "outputs": [],
   "source": [
    "train.viewed = train.viewed.apply(lambda x: x.split(','))\n",
    "train.purchased = train.purchased.apply(lambda x: x.split(','))\n",
    "\n",
    "test.viewed = test.viewed.apply(lambda x: x.split(','))\n",
    "test.purchased = test.purchased.apply(lambda x: x.split(','))"
   ]
  },
  {
   "cell_type": "code",
   "execution_count": 219,
   "metadata": {},
   "outputs": [
    {
     "data": {
      "text/html": [
       "<div>\n",
       "<style scoped>\n",
       "    .dataframe tbody tr th:only-of-type {\n",
       "        vertical-align: middle;\n",
       "    }\n",
       "\n",
       "    .dataframe tbody tr th {\n",
       "        vertical-align: top;\n",
       "    }\n",
       "\n",
       "    .dataframe thead th {\n",
       "        text-align: right;\n",
       "    }\n",
       "</style>\n",
       "<table border=\"1\" class=\"dataframe\">\n",
       "  <thead>\n",
       "    <tr style=\"text-align: right;\">\n",
       "      <th></th>\n",
       "      <th>viewed</th>\n",
       "      <th>purchased</th>\n",
       "    </tr>\n",
       "  </thead>\n",
       "  <tbody>\n",
       "    <tr>\n",
       "      <th>7</th>\n",
       "      <td>[59, 60, 61, 62, 60, 63, 64, 65, 66, 61, 67, 6...</td>\n",
       "      <td>[67, 60, 63]</td>\n",
       "    </tr>\n",
       "    <tr>\n",
       "      <th>10</th>\n",
       "      <td>[84, 85, 86, 87, 88, 89, 84, 90, 91, 92, 93, 86]</td>\n",
       "      <td>[86]</td>\n",
       "    </tr>\n",
       "    <tr>\n",
       "      <th>19</th>\n",
       "      <td>[138, 198, 199, 127]</td>\n",
       "      <td>[199]</td>\n",
       "    </tr>\n",
       "    <tr>\n",
       "      <th>30</th>\n",
       "      <td>[303, 304, 305, 306, 307, 308, 309, 310, 311, ...</td>\n",
       "      <td>[303]</td>\n",
       "    </tr>\n",
       "    <tr>\n",
       "      <th>33</th>\n",
       "      <td>[352, 353, 352]</td>\n",
       "      <td>[352]</td>\n",
       "    </tr>\n",
       "  </tbody>\n",
       "</table>\n",
       "</div>"
      ],
      "text/plain": [
       "                                               viewed     purchased\n",
       "7   [59, 60, 61, 62, 60, 63, 64, 65, 66, 61, 67, 6...  [67, 60, 63]\n",
       "10   [84, 85, 86, 87, 88, 89, 84, 90, 91, 92, 93, 86]          [86]\n",
       "19                               [138, 198, 199, 127]         [199]\n",
       "30  [303, 304, 305, 306, 307, 308, 309, 310, 311, ...         [303]\n",
       "33                                    [352, 353, 352]         [352]"
      ]
     },
     "execution_count": 219,
     "metadata": {},
     "output_type": "execute_result"
    }
   ],
   "source": [
    "train.head()"
   ]
  },
  {
   "cell_type": "code",
   "execution_count": 220,
   "metadata": {},
   "outputs": [],
   "source": [
    "viewed_dict = Counter(reduce(lambda x, y: x + y, train.viewed.tolist()))\n",
    "\n",
    "purchased_dict = Counter(reduce(lambda x, y: x + y, train.purchased.tolist()))"
   ]
  },
  {
   "cell_type": "markdown",
   "metadata": {},
   "source": [
    "# Алгоритм 1"
   ]
  },
  {
   "cell_type": "markdown",
   "metadata": {},
   "source": [
    "### Train"
   ]
  },
  {
   "cell_type": "code",
   "execution_count": 222,
   "metadata": {},
   "outputs": [],
   "source": [
    "train['recommended_1'] = train.viewed.apply(\n",
    "    lambda x: sorted(list(set(x)), key= lambda x: viewed_dict.get(x) if viewed_dict.get(x) else 0, reverse=True)\n",
    ")"
   ]
  },
  {
   "cell_type": "code",
   "execution_count": 232,
   "metadata": {},
   "outputs": [
    {
     "data": {
      "text/plain": [
       "(0.48, 0.56, 0.85, 0.22)"
      ]
     },
     "execution_count": 232,
     "metadata": {},
     "output_type": "execute_result"
    }
   ],
   "source": [
    "answers_list1 = calculate_metrics(train.recommended_1, train.purchased)\n",
    "\n",
    "write_answer('1.txt', answers_list1)\n",
    "\n",
    "answers_list1"
   ]
  },
  {
   "cell_type": "markdown",
   "metadata": {},
   "source": [
    "### Test"
   ]
  },
  {
   "cell_type": "code",
   "execution_count": 233,
   "metadata": {},
   "outputs": [],
   "source": [
    "test['recommended_1'] = test.viewed.apply(\n",
    "    lambda x: sorted(list(set(x)), key= lambda x: viewed_dict.get(x) if viewed_dict.get(x) else 0, reverse=True)\n",
    ")"
   ]
  },
  {
   "cell_type": "code",
   "execution_count": 234,
   "metadata": {},
   "outputs": [
    {
     "data": {
      "text/plain": [
       "(0.42, 0.48, 0.79, 0.2)"
      ]
     },
     "execution_count": 234,
     "metadata": {},
     "output_type": "execute_result"
    }
   ],
   "source": [
    "answers_list2 = calculate_metrics(test.recommended_1, test.purchased)\n",
    "\n",
    "write_answer('2.txt', answers_list2)\n",
    "\n",
    "answers_list2"
   ]
  },
  {
   "cell_type": "markdown",
   "metadata": {},
   "source": [
    "# Алгоритм 2"
   ]
  },
  {
   "cell_type": "markdown",
   "metadata": {},
   "source": [
    "### Train"
   ]
  },
  {
   "cell_type": "code",
   "execution_count": 235,
   "metadata": {},
   "outputs": [],
   "source": [
    "train['recommended_2'] = train.viewed.apply(\n",
    "    lambda x: sorted(list(set(x)), key= lambda x: purchased_dict.get(x) if purchased_dict.get(x) else 0, reverse=True)\n",
    ")"
   ]
  },
  {
   "cell_type": "code",
   "execution_count": 237,
   "metadata": {},
   "outputs": [
    {
     "data": {
      "text/plain": [
       "(0.68, 0.79, 0.93, 0.25)"
      ]
     },
     "execution_count": 237,
     "metadata": {},
     "output_type": "execute_result"
    }
   ],
   "source": [
    "answers_list3 = calculate_metrics(train.recommended_2, train.purchased)\n",
    "\n",
    "write_answer('3.txt', answers_list3)\n",
    "\n",
    "answers_list3"
   ]
  },
  {
   "cell_type": "markdown",
   "metadata": {},
   "source": [
    "### Test"
   ]
  },
  {
   "cell_type": "code",
   "execution_count": 238,
   "metadata": {},
   "outputs": [],
   "source": [
    "test['recommended_2'] = test.viewed.apply(\n",
    "    lambda x: sorted(list(set(x)), key= lambda x: purchased_dict.get(x) if purchased_dict.get(x) else 0, reverse=True)\n",
    ")"
   ]
  },
  {
   "cell_type": "code",
   "execution_count": 239,
   "metadata": {},
   "outputs": [
    {
     "data": {
      "text/plain": [
       "(0.42, 0.48, 0.79, 0.2)"
      ]
     },
     "execution_count": 239,
     "metadata": {},
     "output_type": "execute_result"
    }
   ],
   "source": [
    "answers_list4 = calculate_metrics(test.recommended_2, test.purchased)\n",
    "\n",
    "write_answer('4.txt', answers_list4)\n",
    "\n",
    "answers_list4"
   ]
  }
 ],
 "metadata": {
  "kernelspec": {
   "display_name": "Python 3",
   "language": "python",
   "name": "python3"
  },
  "language_info": {
   "codemirror_mode": {
    "name": "ipython",
    "version": 3
   },
   "file_extension": ".py",
   "mimetype": "text/x-python",
   "name": "python",
   "nbconvert_exporter": "python",
   "pygments_lexer": "ipython3",
   "version": "3.8.3"
  }
 },
 "nbformat": 4,
 "nbformat_minor": 4
}
